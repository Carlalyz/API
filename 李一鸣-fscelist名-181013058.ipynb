{
 "cells": [
  {
   "cell_type": "markdown",
   "metadata": {},
   "source": [
    "# 建列表"
   ]
  },
  {
   "cell_type": "markdown",
   "metadata": {},
   "source": [
    "建立一个列表用来装我们需要进行对比的人脸"
   ]
  },
  {
   "cell_type": "code",
   "execution_count": 103,
   "metadata": {},
   "outputs": [
    {
     "data": {
      "text/plain": [
       "200"
      ]
     },
     "execution_count": 103,
     "metadata": {},
     "output_type": "execute_result"
    }
   ],
   "source": [
    "import requests #导入requests模块\n",
    "import json\n",
    "create_facelists_url = \"https://eastus.api.cognitive.microsoft.com/face/v1.0/facelists/{faceListId}\" \n",
    "subscription_key = \"03cc7cc2313342d4831cbad7ca6ac426\"\n",
    "assert subscription_key\n",
    "headers = {\n",
    "    # Request headers\n",
    "    'Content-Type': 'application/json',\n",
    "    'Ocp-Apim-Subscription-Key': subscription_key,\n",
    "}\n",
    "# 1、create 创建一个装相片的列表\n",
    "data = {\n",
    "    \"name\": \"list_pm_c\",\n",
    "    \"userData\": \"facelist\",\n",
    "    \"recognitionModel\": \"recognition_02\"\n",
    "}\n",
    "params = {\n",
    "    # Request parameters    \n",
    "   \n",
    "    \"faceListId\":\"xz3\"\n",
    "    \n",
    "#     'detectionModel': 'detection_01',\n",
    "}\n",
    "r_create = requests.put(create_facelists_url,headers=headers,params=params,json=data)\n",
    "# 请求成功，返回空字符串\n",
    "r_create.status_code"
   ]
  },
  {
   "cell_type": "code",
   "execution_count": 104,
   "metadata": {},
   "outputs": [
    {
     "data": {
      "text/plain": [
       "b''"
      ]
     },
     "execution_count": 104,
     "metadata": {},
     "output_type": "execute_result"
    }
   ],
   "source": [
    "r_create.content"
   ]
  },
  {
   "cell_type": "markdown",
   "metadata": {},
   "source": [
    "# 存一张face"
   ]
  },
  {
   "cell_type": "code",
   "execution_count": 105,
   "metadata": {},
   "outputs": [],
   "source": [
    "#先加一张脸试试\n",
    "# 2、Add face\n",
    "add_face_url =\"https://eastus.api.cognitive.microsoft.com/face/v1.0/facelists/{faceListId}/persistedFaces\"\n",
    "subscription_key = \"03cc7cc2313342d4831cbad7ca6ac426\"\n",
    "assert subscription_key\n",
    "headers = {\n",
    "    # Request headers\n",
    "    'Content-Type': 'application/json',\n",
    "    'Ocp-Apim-Subscription-Key': subscription_key,\n",
    "}\n",
    "img_url = \"http://img3.imgtn.bdimg.com/it/u=3534940287,477709860&fm=26&gp=0.jpg\"\n",
    "\n",
    "params_add_face={\n",
    "    \"faceListId\":\"xz3\",\n",
    "    \"userData\":\"prem\"\n",
    "}\n",
    "\n",
    "r_add_face = requests.post(add_face_url,headers=headers,params=params_add_face,json={\"url\":img_url})\n",
    "# r = requests.post(add_face, headers=headers,params = params,json={\"url\": add_face_image})"
   ]
  },
  {
   "cell_type": "markdown",
   "metadata": {},
   "source": [
    "# 封装为函数"
   ]
  },
  {
   "cell_type": "code",
   "execution_count": 107,
   "metadata": {},
   "outputs": [],
   "source": [
    "# 封装成函数方便添加图片\n",
    "def AddFace(img_url=str,userData=str):\n",
    "    add_face_url =\"https://eastus.api.cognitive.microsoft.com/face/v1.0/facelists/{faceListId}/persistedFaces\"\n",
    "    subscription_key = \"03cc7cc2313342d4831cbad7ca6ac426\"\n",
    "    assert subscription_key\n",
    "    headers = {\n",
    "        # Request headers\n",
    "        'Content-Type': 'application/json',\n",
    "        'Ocp-Apim-Subscription-Key': subscription_key,\n",
    "    }\n",
    "    img_url = img_url\n",
    "\n",
    "    params_add_face={\n",
    "        \"faceListId\":\"xz3\",\n",
    "        \"userData\":userData\n",
    "    }\n",
    "    r_add_face = requests.post(add_face_url,headers=headers,params=params_add_face,json={\"url\":img_url})\n",
    "    return r_add_face.status_code#返回出状态码"
   ]
  },
  {
   "cell_type": "code",
   "execution_count": 108,
   "metadata": {},
   "outputs": [],
   "source": [
    "# 顺便把查看列表的也给封装了\n",
    "# Get facelist\n",
    "def GetFacelist():\n",
    "    get_facelist_url = \"https://eastus.api.cognitive.microsoft.com/face/v1.0/facelists/{faceListId}\"\n",
    "    data = {\n",
    "        \"faceListId\":\"xz3\",\n",
    "    }\n",
    "    r_get_facelist = requests.get(get_facelist_url,headers=headers,params=data)\n",
    "    return r_get_facelist.json()"
   ]
  },
  {
   "cell_type": "markdown",
   "metadata": {},
   "source": [
    "# 加上一堆face"
   ]
  },
  {
   "cell_type": "code",
   "execution_count": 109,
   "metadata": {},
   "outputs": [
    {
     "data": {
      "text/plain": [
       "200"
      ]
     },
     "execution_count": 109,
     "metadata": {},
     "output_type": "execute_result"
    }
   ],
   "source": [
    "AddFace(\"https://ss0.bdstatic.com/70cFvHSh_Q1YnxGkpoWK1HF6hhy/it/u=895648433,231334993&fm=11&gp=0.jpg\",\"肖战\")\n",
    "AddFace(\"https://ss0.bdstatic.com/70cFuHSh_Q1YnxGkpoWK1HF6hhy/it/u=3690927016,3182147326&fm=26&gp=0.jpg\",\"张新成\")\n",
    "AddFace(\"https://ss2.bdstatic.com/70cFvnSh_Q1YnxGkpoWK1HF6hhy/it/u=1568631342,4251819204&fm=26&gp=0.jpg\",\"刘昊然\")\n",
    "AddFace(\"https://ss0.bdstatic.com/70cFuHSh_Q1YnxGkpoWK1HF6hhy/it/u=241130309,3211278353&fm=11&gp=0.jpg\",\"朱一龙\")\n",
    "AddFace(\"https://ss0.bdstatic.com/70cFuHSh_Q1YnxGkpoWK1HF6hhy/it/u=1679198046,4211159048&fm=26&gp=0.jpg\",\"吴彦祖\")\n",
    "AddFace(\"https://ss0.baidu.com/94o3dSag_xI4khGko9WTAnF6hhy/image/h%3D300/sign=d2e5e6326363f624035d3f03b745eb32/203fb80e7bec54e7162b7715b1389b504ec26af1.jpg\",\"郑业成\")\n",
    "AddFace(\"https://ss3.bdstatic.com/70cFv8Sh_Q1YnxGkpoWK1HF6hhy/it/u=101953670,1268169673&fm=26&gp=0.jpg\",\"李钟硕\")\n",
    "AddFace(\"https://ss3.bdstatic.com/70cFv8Sh_Q1YnxGkpoWK1HF6hhy/it/u=2890446709,834047150&fm=11&gp=0.jpg\",\"李佳琦\")\n",
    "AddFace(\"https://ss3.bdstatic.com/70cFv8Sh_Q1YnxGkpoWK1HF6hhy/it/u=3968654977,2165438094&fm=11&gp=0.jpg\",\"许凯\")\n",
    "AddFace(\"https://ss0.bdstatic.com/70cFuHSh_Q1YnxGkpoWK1HF6hhy/it/u=1881962691,2154333559&fm=11&gp=0.jpg\",\"许光汉\")\n",
    "AddFace(\"https://ss2.bdstatic.com/70cFvnSh_Q1YnxGkpoWK1HF6hhy/it/u=1140984182,284853180&fm=26&gp=0.jpg\",\"吴亦凡\")\n",
    "AddFace(\"https://ss3.bdstatic.com/70cFv8Sh_Q1YnxGkpoWK1HF6hhy/it/u=3870837680,3632372405&fm=26&gp=0.jpg\",\"邓伦\")"
   ]
  },
  {
   "cell_type": "markdown",
   "metadata": {},
   "source": [
    "# 用一张脸来测试一下"
   ]
  },
  {
   "cell_type": "code",
   "execution_count": 110,
   "metadata": {},
   "outputs": [
    {
     "data": {
      "text/plain": [
       "'[{\"faceId\": \"a2793f84-aff9-4999-b848-1e4026fb80aa\", \"faceRectangle\": {\"top\": 62, \"left\": 236, \"width\": 104, \"height\": 104}, \"faceAttributes\": {\"smile\": 0.0, \"headPose\": {\"pitch\": -9.6, \"roll\": 1.9, \"yaw\": -31.9}, \"gender\": \"male\", \"age\": 21.0, \"facialHair\": {\"moustache\": 0.1, \"beard\": 0.1, \"sideburns\": 0.1}, \"glasses\": \"NoGlasses\", \"emotion\": {\"anger\": 0.001, \"contempt\": 0.0, \"disgust\": 0.0, \"fear\": 0.0, \"happiness\": 0.0, \"neutral\": 0.993, \"sadness\": 0.006, \"surprise\": 0.0}, \"blur\": {\"blurLevel\": \"low\", \"value\": 0.0}, \"exposure\": {\"exposureLevel\": \"goodExposure\", \"value\": 0.37}, \"noise\": {\"noiseLevel\": \"low\", \"value\": 0.0}, \"makeup\": {\"eyeMakeup\": true, \"lipMakeup\": true}, \"accessories\": [], \"occlusion\": {\"foreheadOccluded\": false, \"eyeOccluded\": false, \"mouthOccluded\": false}, \"hair\": {\"bald\": 0.04, \"invisible\": false, \"hairColor\": [{\"color\": \"brown\", \"confidence\": 1.0}, {\"color\": \"black\", \"confidence\": 0.93}, {\"color\": \"red\", \"confidence\": 0.38}, {\"color\": \"other\", \"confidence\": 0.1}, {\"color\": \"blond\", \"confidence\": 0.09}, {\"color\": \"gray\", \"confidence\": 0.04}]}}}]'"
      ]
     },
     "execution_count": 110,
     "metadata": {},
     "output_type": "execute_result"
    }
   ],
   "source": [
    "# 3、检测人脸的id\n",
    "# replace <My Endpoint String> with the string from your endpoint URL\n",
    "face_api_url = 'https://eastus.api.cognitive.microsoft.com/face/v1.0/detect'\n",
    "\n",
    "# 请求正文\n",
    "image_url = 'https://ss0.bdstatic.com/70cFvHSh_Q1YnxGkpoWK1HF6hhy/it/u=2799190528,385704770&fm=26&gp=0.jpg'\n",
    "\n",
    "headers = {'Ocp-Apim-Subscription-Key': subscription_key}\n",
    "\n",
    "# 请求参数\n",
    "params = {\n",
    "    'returnFaceId': 'true',\n",
    "    'returnFaceLandmarks': 'false',\n",
    "    # 选择model\n",
    "    'recognitionModel':'recognition_02',\n",
    "    'detectionModel':'detection_01',\n",
    "    # 可选参数,请仔细阅读API文档\n",
    "    'returnFaceAttributes': 'age,gender,headPose,smile,facialHair,glasses,emotion,hair,makeup,occlusion,accessories,blur,exposure,noise',\n",
    "}\n",
    "\n",
    "response = requests.post(face_api_url, params=params,\n",
    "                         headers=headers, json={\"url\": image_url})\n",
    "# json.dumps 将json--->字符串\n",
    "json.dumps(response.json())"
   ]
  },
  {
   "cell_type": "code",
   "execution_count": 111,
   "metadata": {},
   "outputs": [],
   "source": [
    "王一博的脸 = response.json()[0][\"faceId\"]"
   ]
  },
  {
   "cell_type": "markdown",
   "metadata": {},
   "source": [
    "# 寻找相似度"
   ]
  },
  {
   "cell_type": "code",
   "execution_count": 114,
   "metadata": {},
   "outputs": [
    {
     "data": {
      "text/plain": [
       "200"
      ]
     },
     "execution_count": 114,
     "metadata": {},
     "output_type": "execute_result"
    }
   ],
   "source": [
    "findsimilars_url = \"https://eastus.api.cognitive.microsoft.com/face/v1.0/findsimilars\"\n",
    "\n",
    "# 请求正文 faceId需要先检测一张照片获取\n",
    "data_findsimilars = {\n",
    "    \"faceId\":脸,\n",
    "    \"faceListId\":\"xz3\",\n",
    "    \"maxNumOfCandidatesReturned\": 10,\n",
    "    \"mode\": \"matchFace\"#matchPerson\n",
    "    }\n",
    "\n",
    "r_findsimilars = requests.post(findsimilars_url,headers=headers,json=data_findsimilars)\n",
    "r_findsimilars.status_code"
   ]
  },
  {
   "cell_type": "code",
   "execution_count": 115,
   "metadata": {},
   "outputs": [
    {
     "data": {
      "text/plain": [
       "[{'persistedFaceId': 'dab662c2-ca22-43bd-8d74-d2538929c1ea',\n",
       "  'confidence': 0.49656},\n",
       " {'persistedFaceId': '33cf1010-3f9c-48a7-8e0a-b822ccc96126',\n",
       "  'confidence': 0.4552},\n",
       " {'persistedFaceId': 'd65326ab-e9e8-40cd-87b3-f9dcf1cd3972',\n",
       "  'confidence': 0.26188},\n",
       " {'persistedFaceId': '11a93079-d7ed-49a2-89dd-6a3bf7017bdc',\n",
       "  'confidence': 0.17586},\n",
       " {'persistedFaceId': 'c99226a6-3252-41cc-bedc-6ec618704b23',\n",
       "  'confidence': 0.17385},\n",
       " {'persistedFaceId': 'ef57a689-33fd-46b8-801d-ff9810c0fb7b',\n",
       "  'confidence': 0.15486},\n",
       " {'persistedFaceId': '8d9c899b-8f81-4b16-9c73-bb36c2c079ec',\n",
       "  'confidence': 0.13701},\n",
       " {'persistedFaceId': '8be0cc80-0e62-4ac7-9d87-d7d111dd9614',\n",
       "  'confidence': 0.10213},\n",
       " {'persistedFaceId': 'a5929758-49ff-45a5-8246-9b46cc4166ce',\n",
       "  'confidence': 0.10061},\n",
       " {'persistedFaceId': '9d1d326d-8c2b-40dd-b9d1-e64ae5bec2e6',\n",
       "  'confidence': 0.09892}]"
      ]
     },
     "execution_count": 115,
     "metadata": {},
     "output_type": "execute_result"
    }
   ],
   "source": [
    "r_findsimilars.json()"
   ]
  },
  {
   "cell_type": "markdown",
   "metadata": {},
   "source": [
    "# 做个报表"
   ]
  },
  {
   "cell_type": "markdown",
   "metadata": {},
   "source": [
    "- 做一个人脸的数据库"
   ]
  },
  {
   "cell_type": "code",
   "execution_count": 116,
   "metadata": {},
   "outputs": [
    {
     "data": {
      "text/plain": [
       "{'persistedFaces': [{'persistedFaceId': '33cf1010-3f9c-48a7-8e0a-b822ccc96126',\n",
       "   'userData': '肖战'},\n",
       "  {'persistedFaceId': 'ef57a689-33fd-46b8-801d-ff9810c0fb7b',\n",
       "   'userData': '张新成'},\n",
       "  {'persistedFaceId': 'dab662c2-ca22-43bd-8d74-d2538929c1ea',\n",
       "   'userData': '刘昊然'},\n",
       "  {'persistedFaceId': '9d1d326d-8c2b-40dd-b9d1-e64ae5bec2e6',\n",
       "   'userData': '朱一龙'},\n",
       "  {'persistedFaceId': 'c99226a6-3252-41cc-bedc-6ec618704b23',\n",
       "   'userData': '吴彦祖'},\n",
       "  {'persistedFaceId': '8d9c899b-8f81-4b16-9c73-bb36c2c079ec',\n",
       "   'userData': '郑业成'},\n",
       "  {'persistedFaceId': 'a5929758-49ff-45a5-8246-9b46cc4166ce',\n",
       "   'userData': '李钟硕'},\n",
       "  {'persistedFaceId': '11a93079-d7ed-49a2-89dd-6a3bf7017bdc',\n",
       "   'userData': '李佳琦'},\n",
       "  {'persistedFaceId': '8be0cc80-0e62-4ac7-9d87-d7d111dd9614',\n",
       "   'userData': '许凯'},\n",
       "  {'persistedFaceId': '2c603e94-88f5-4321-a508-47228774d39e',\n",
       "   'userData': '许光汉'},\n",
       "  {'persistedFaceId': 'd65326ab-e9e8-40cd-87b3-f9dcf1cd3972',\n",
       "   'userData': '吴亦凡'},\n",
       "  {'persistedFaceId': '848f6a7f-1b80-4818-b464-93a1f4685aa5',\n",
       "   'userData': '邓伦'}],\n",
       " 'faceListId': 'xz3',\n",
       " 'name': 'list_pm_c',\n",
       " 'userData': 'facelist'}"
      ]
     },
     "execution_count": 116,
     "metadata": {},
     "output_type": "execute_result"
    }
   ],
   "source": [
    "import pandas as pd\n",
    "\n",
    "get_facelist_url = \"https://eastus.api.cognitive.microsoft.com/face/v1.0/facelists/{faceListId}\"\n",
    "\n",
    "data = {\n",
    "    \"faceListId\":\"xz3\",\n",
    "\n",
    "}\n",
    "\n",
    "r_get_facelist = requests.get(get_facelist_url,headers=headers,params=data)\n",
    "r_get_facelist.json()"
   ]
  },
  {
   "cell_type": "code",
   "execution_count": 117,
   "metadata": {},
   "outputs": [
    {
     "data": {
      "text/html": [
       "<div>\n",
       "<style scoped>\n",
       "    .dataframe tbody tr th:only-of-type {\n",
       "        vertical-align: middle;\n",
       "    }\n",
       "\n",
       "    .dataframe tbody tr th {\n",
       "        vertical-align: top;\n",
       "    }\n",
       "\n",
       "    .dataframe thead th {\n",
       "        text-align: right;\n",
       "    }\n",
       "</style>\n",
       "<table border=\"1\" class=\"dataframe\">\n",
       "  <thead>\n",
       "    <tr style=\"text-align: right;\">\n",
       "      <th></th>\n",
       "      <th>FaceID</th>\n",
       "      <th>姓名</th>\n",
       "    </tr>\n",
       "  </thead>\n",
       "  <tbody>\n",
       "    <tr>\n",
       "      <th>0</th>\n",
       "      <td>33cf1010-3f9c-48a7-8e0a-b822ccc96126</td>\n",
       "      <td>肖战</td>\n",
       "    </tr>\n",
       "    <tr>\n",
       "      <th>1</th>\n",
       "      <td>ef57a689-33fd-46b8-801d-ff9810c0fb7b</td>\n",
       "      <td>张新成</td>\n",
       "    </tr>\n",
       "    <tr>\n",
       "      <th>2</th>\n",
       "      <td>dab662c2-ca22-43bd-8d74-d2538929c1ea</td>\n",
       "      <td>刘昊然</td>\n",
       "    </tr>\n",
       "    <tr>\n",
       "      <th>3</th>\n",
       "      <td>9d1d326d-8c2b-40dd-b9d1-e64ae5bec2e6</td>\n",
       "      <td>朱一龙</td>\n",
       "    </tr>\n",
       "    <tr>\n",
       "      <th>4</th>\n",
       "      <td>c99226a6-3252-41cc-bedc-6ec618704b23</td>\n",
       "      <td>吴彦祖</td>\n",
       "    </tr>\n",
       "    <tr>\n",
       "      <th>5</th>\n",
       "      <td>8d9c899b-8f81-4b16-9c73-bb36c2c079ec</td>\n",
       "      <td>郑业成</td>\n",
       "    </tr>\n",
       "    <tr>\n",
       "      <th>6</th>\n",
       "      <td>a5929758-49ff-45a5-8246-9b46cc4166ce</td>\n",
       "      <td>李钟硕</td>\n",
       "    </tr>\n",
       "    <tr>\n",
       "      <th>7</th>\n",
       "      <td>11a93079-d7ed-49a2-89dd-6a3bf7017bdc</td>\n",
       "      <td>李佳琦</td>\n",
       "    </tr>\n",
       "    <tr>\n",
       "      <th>8</th>\n",
       "      <td>8be0cc80-0e62-4ac7-9d87-d7d111dd9614</td>\n",
       "      <td>许凯</td>\n",
       "    </tr>\n",
       "    <tr>\n",
       "      <th>9</th>\n",
       "      <td>2c603e94-88f5-4321-a508-47228774d39e</td>\n",
       "      <td>许光汉</td>\n",
       "    </tr>\n",
       "    <tr>\n",
       "      <th>10</th>\n",
       "      <td>d65326ab-e9e8-40cd-87b3-f9dcf1cd3972</td>\n",
       "      <td>吴亦凡</td>\n",
       "    </tr>\n",
       "    <tr>\n",
       "      <th>11</th>\n",
       "      <td>848f6a7f-1b80-4818-b464-93a1f4685aa5</td>\n",
       "      <td>邓伦</td>\n",
       "    </tr>\n",
       "  </tbody>\n",
       "</table>\n",
       "</div>"
      ],
      "text/plain": [
       "                                  FaceID   姓名\n",
       "0   33cf1010-3f9c-48a7-8e0a-b822ccc96126   肖战\n",
       "1   ef57a689-33fd-46b8-801d-ff9810c0fb7b  张新成\n",
       "2   dab662c2-ca22-43bd-8d74-d2538929c1ea  刘昊然\n",
       "3   9d1d326d-8c2b-40dd-b9d1-e64ae5bec2e6  朱一龙\n",
       "4   c99226a6-3252-41cc-bedc-6ec618704b23  吴彦祖\n",
       "5   8d9c899b-8f81-4b16-9c73-bb36c2c079ec  郑业成\n",
       "6   a5929758-49ff-45a5-8246-9b46cc4166ce  李钟硕\n",
       "7   11a93079-d7ed-49a2-89dd-6a3bf7017bdc  李佳琦\n",
       "8   8be0cc80-0e62-4ac7-9d87-d7d111dd9614   许凯\n",
       "9   2c603e94-88f5-4321-a508-47228774d39e  许光汉\n",
       "10  d65326ab-e9e8-40cd-87b3-f9dcf1cd3972  吴亦凡\n",
       "11  848f6a7f-1b80-4818-b464-93a1f4685aa5   邓伦"
      ]
     },
     "execution_count": 117,
     "metadata": {},
     "output_type": "execute_result"
    }
   ],
   "source": [
    "adf = pd.json_normalize(r_get_facelist.json()[\"persistedFaces\"])\n",
    "adf = adf.rename (columns = {\"userData\":\"姓名\",\"persistedFaceId\":\"FaceID\"})\n",
    "adf"
   ]
  },
  {
   "cell_type": "code",
   "execution_count": 118,
   "metadata": {},
   "outputs": [
    {
     "data": {
      "text/html": [
       "<div>\n",
       "<style scoped>\n",
       "    .dataframe tbody tr th:only-of-type {\n",
       "        vertical-align: middle;\n",
       "    }\n",
       "\n",
       "    .dataframe tbody tr th {\n",
       "        vertical-align: top;\n",
       "    }\n",
       "\n",
       "    .dataframe thead th {\n",
       "        text-align: right;\n",
       "    }\n",
       "</style>\n",
       "<table border=\"1\" class=\"dataframe\">\n",
       "  <thead>\n",
       "    <tr style=\"text-align: right;\">\n",
       "      <th></th>\n",
       "      <th>FaceID</th>\n",
       "      <th>相似度</th>\n",
       "    </tr>\n",
       "  </thead>\n",
       "  <tbody>\n",
       "    <tr>\n",
       "      <th>0</th>\n",
       "      <td>dab662c2-ca22-43bd-8d74-d2538929c1ea</td>\n",
       "      <td>0.49656</td>\n",
       "    </tr>\n",
       "    <tr>\n",
       "      <th>1</th>\n",
       "      <td>33cf1010-3f9c-48a7-8e0a-b822ccc96126</td>\n",
       "      <td>0.45520</td>\n",
       "    </tr>\n",
       "    <tr>\n",
       "      <th>2</th>\n",
       "      <td>d65326ab-e9e8-40cd-87b3-f9dcf1cd3972</td>\n",
       "      <td>0.26188</td>\n",
       "    </tr>\n",
       "    <tr>\n",
       "      <th>3</th>\n",
       "      <td>11a93079-d7ed-49a2-89dd-6a3bf7017bdc</td>\n",
       "      <td>0.17586</td>\n",
       "    </tr>\n",
       "    <tr>\n",
       "      <th>4</th>\n",
       "      <td>c99226a6-3252-41cc-bedc-6ec618704b23</td>\n",
       "      <td>0.17385</td>\n",
       "    </tr>\n",
       "    <tr>\n",
       "      <th>5</th>\n",
       "      <td>ef57a689-33fd-46b8-801d-ff9810c0fb7b</td>\n",
       "      <td>0.15486</td>\n",
       "    </tr>\n",
       "    <tr>\n",
       "      <th>6</th>\n",
       "      <td>8d9c899b-8f81-4b16-9c73-bb36c2c079ec</td>\n",
       "      <td>0.13701</td>\n",
       "    </tr>\n",
       "    <tr>\n",
       "      <th>7</th>\n",
       "      <td>8be0cc80-0e62-4ac7-9d87-d7d111dd9614</td>\n",
       "      <td>0.10213</td>\n",
       "    </tr>\n",
       "    <tr>\n",
       "      <th>8</th>\n",
       "      <td>a5929758-49ff-45a5-8246-9b46cc4166ce</td>\n",
       "      <td>0.10061</td>\n",
       "    </tr>\n",
       "    <tr>\n",
       "      <th>9</th>\n",
       "      <td>9d1d326d-8c2b-40dd-b9d1-e64ae5bec2e6</td>\n",
       "      <td>0.09892</td>\n",
       "    </tr>\n",
       "  </tbody>\n",
       "</table>\n",
       "</div>"
      ],
      "text/plain": [
       "                                 FaceID      相似度\n",
       "0  dab662c2-ca22-43bd-8d74-d2538929c1ea  0.49656\n",
       "1  33cf1010-3f9c-48a7-8e0a-b822ccc96126  0.45520\n",
       "2  d65326ab-e9e8-40cd-87b3-f9dcf1cd3972  0.26188\n",
       "3  11a93079-d7ed-49a2-89dd-6a3bf7017bdc  0.17586\n",
       "4  c99226a6-3252-41cc-bedc-6ec618704b23  0.17385\n",
       "5  ef57a689-33fd-46b8-801d-ff9810c0fb7b  0.15486\n",
       "6  8d9c899b-8f81-4b16-9c73-bb36c2c079ec  0.13701\n",
       "7  8be0cc80-0e62-4ac7-9d87-d7d111dd9614  0.10213\n",
       "8  a5929758-49ff-45a5-8246-9b46cc4166ce  0.10061\n",
       "9  9d1d326d-8c2b-40dd-b9d1-e64ae5bec2e6  0.09892"
      ]
     },
     "execution_count": 118,
     "metadata": {},
     "output_type": "execute_result"
    }
   ],
   "source": [
    "bdf = pd.json_normalize(r_findsimilars.json())\n",
    "bdf = bdf.rename (columns = {\"confidence\":\"相似度\",\"persistedFaceId\":\"FaceID\"})\n",
    "bdf"
   ]
  },
  {
   "cell_type": "markdown",
   "metadata": {},
   "source": [
    "# 合并！"
   ]
  },
  {
   "cell_type": "markdown",
   "metadata": {},
   "source": [
    "让我们看看谁和王一博最像吧~"
   ]
  },
  {
   "cell_type": "code",
   "execution_count": 119,
   "metadata": {},
   "outputs": [
    {
     "data": {
      "text/html": [
       "<div>\n",
       "<style scoped>\n",
       "    .dataframe tbody tr th:only-of-type {\n",
       "        vertical-align: middle;\n",
       "    }\n",
       "\n",
       "    .dataframe tbody tr th {\n",
       "        vertical-align: top;\n",
       "    }\n",
       "\n",
       "    .dataframe thead th {\n",
       "        text-align: right;\n",
       "    }\n",
       "</style>\n",
       "<table border=\"1\" class=\"dataframe\">\n",
       "  <thead>\n",
       "    <tr style=\"text-align: right;\">\n",
       "      <th></th>\n",
       "      <th>FaceID</th>\n",
       "      <th>姓名</th>\n",
       "      <th>相似度</th>\n",
       "    </tr>\n",
       "  </thead>\n",
       "  <tbody>\n",
       "    <tr>\n",
       "      <th>2</th>\n",
       "      <td>dab662c2-ca22-43bd-8d74-d2538929c1ea</td>\n",
       "      <td>刘昊然</td>\n",
       "      <td>0.49656</td>\n",
       "    </tr>\n",
       "    <tr>\n",
       "      <th>0</th>\n",
       "      <td>33cf1010-3f9c-48a7-8e0a-b822ccc96126</td>\n",
       "      <td>肖战</td>\n",
       "      <td>0.45520</td>\n",
       "    </tr>\n",
       "    <tr>\n",
       "      <th>9</th>\n",
       "      <td>d65326ab-e9e8-40cd-87b3-f9dcf1cd3972</td>\n",
       "      <td>吴亦凡</td>\n",
       "      <td>0.26188</td>\n",
       "    </tr>\n",
       "    <tr>\n",
       "      <th>7</th>\n",
       "      <td>11a93079-d7ed-49a2-89dd-6a3bf7017bdc</td>\n",
       "      <td>李佳琦</td>\n",
       "      <td>0.17586</td>\n",
       "    </tr>\n",
       "    <tr>\n",
       "      <th>4</th>\n",
       "      <td>c99226a6-3252-41cc-bedc-6ec618704b23</td>\n",
       "      <td>吴彦祖</td>\n",
       "      <td>0.17385</td>\n",
       "    </tr>\n",
       "    <tr>\n",
       "      <th>1</th>\n",
       "      <td>ef57a689-33fd-46b8-801d-ff9810c0fb7b</td>\n",
       "      <td>张新成</td>\n",
       "      <td>0.15486</td>\n",
       "    </tr>\n",
       "    <tr>\n",
       "      <th>5</th>\n",
       "      <td>8d9c899b-8f81-4b16-9c73-bb36c2c079ec</td>\n",
       "      <td>郑业成</td>\n",
       "      <td>0.13701</td>\n",
       "    </tr>\n",
       "    <tr>\n",
       "      <th>8</th>\n",
       "      <td>8be0cc80-0e62-4ac7-9d87-d7d111dd9614</td>\n",
       "      <td>许凯</td>\n",
       "      <td>0.10213</td>\n",
       "    </tr>\n",
       "    <tr>\n",
       "      <th>6</th>\n",
       "      <td>a5929758-49ff-45a5-8246-9b46cc4166ce</td>\n",
       "      <td>李钟硕</td>\n",
       "      <td>0.10061</td>\n",
       "    </tr>\n",
       "    <tr>\n",
       "      <th>3</th>\n",
       "      <td>9d1d326d-8c2b-40dd-b9d1-e64ae5bec2e6</td>\n",
       "      <td>朱一龙</td>\n",
       "      <td>0.09892</td>\n",
       "    </tr>\n",
       "  </tbody>\n",
       "</table>\n",
       "</div>"
      ],
      "text/plain": [
       "                                 FaceID   姓名      相似度\n",
       "2  dab662c2-ca22-43bd-8d74-d2538929c1ea  刘昊然  0.49656\n",
       "0  33cf1010-3f9c-48a7-8e0a-b822ccc96126   肖战  0.45520\n",
       "9  d65326ab-e9e8-40cd-87b3-f9dcf1cd3972  吴亦凡  0.26188\n",
       "7  11a93079-d7ed-49a2-89dd-6a3bf7017bdc  李佳琦  0.17586\n",
       "4  c99226a6-3252-41cc-bedc-6ec618704b23  吴彦祖  0.17385\n",
       "1  ef57a689-33fd-46b8-801d-ff9810c0fb7b  张新成  0.15486\n",
       "5  8d9c899b-8f81-4b16-9c73-bb36c2c079ec  郑业成  0.13701\n",
       "8  8be0cc80-0e62-4ac7-9d87-d7d111dd9614   许凯  0.10213\n",
       "6  a5929758-49ff-45a5-8246-9b46cc4166ce  李钟硕  0.10061\n",
       "3  9d1d326d-8c2b-40dd-b9d1-e64ae5bec2e6  朱一龙  0.09892"
      ]
     },
     "execution_count": 119,
     "metadata": {},
     "output_type": "execute_result"
    }
   ],
   "source": [
    "pd.merge(adf, bdf,how='inner', on='FaceID').sort_values(by=\"相似度\",ascending = False) "
   ]
  }
 ],
 "metadata": {
  "kernelspec": {
   "display_name": "Python 3",
   "language": "python",
   "name": "python3"
  },
  "language_info": {
   "codemirror_mode": {
    "name": "ipython",
    "version": 3
   },
   "file_extension": ".py",
   "mimetype": "text/x-python",
   "name": "python",
   "nbconvert_exporter": "python",
   "pygments_lexer": "ipython3",
   "version": "3.7.6"
  }
 },
 "nbformat": 4,
 "nbformat_minor": 4
}
