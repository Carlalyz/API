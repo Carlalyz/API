{
 "cells": [
  {
   "cell_type": "markdown",
   "metadata": {},
   "source": [
    "# 使用三种API开放平台实现人脸识别"
   ]
  },
  {
   "cell_type": "markdown",
   "metadata": {},
   "source": [
    "* 设计的产品：一款可以根据用户提供的照片中人物情绪推送相应调节情绪的音乐的APP\n",
    "* 需要使用到人脸识别的附加价值：人物情感分析"
   ]
  },
  {
   "cell_type": "markdown",
   "metadata": {},
   "source": [
    "- [使用的示例图片](https://ss3.bdstatic.com/70cFv8Sh_Q1YnxGkpoWK1HF6hhy/it/u=3165450438,2790296485&fm=11&gp=0.jpg)\n",
    "![image](https://ss3.bdstatic.com/70cFv8Sh_Q1YnxGkpoWK1HF6hhy/it/u=3165450438,2790296485&fm=11&gp=0.jpg)"
   ]
  },
  {
   "cell_type": "markdown",
   "metadata": {},
   "source": [
    "## Acure"
   ]
  },
  {
   "cell_type": "code",
   "execution_count": 61,
   "metadata": {
    "scrolled": true
   },
   "outputs": [
    {
     "name": "stdout",
     "output_type": "stream",
     "text": [
      "[{\"faceId\": \"15f7cdba-aa34-41e4-847b-2ed6441fc769\", \"faceRectangle\": {\"top\": 105, \"left\": 181, \"width\": 68, \"height\": 68}, \"faceAttributes\": {\"smile\": 0.0, \"headPose\": {\"pitch\": 4.2, \"roll\": 5.2, \"yaw\": -14.8}, \"gender\": \"male\", \"age\": 23.0, \"facialHair\": {\"moustache\": 0.1, \"beard\": 0.1, \"sideburns\": 0.1}, \"glasses\": \"NoGlasses\", \"emotion\": {\"anger\": 0.0, \"contempt\": 0.0, \"disgust\": 0.0, \"fear\": 0.0, \"happiness\": 0.0, \"neutral\": 1.0, \"sadness\": 0.0, \"surprise\": 0.0}, \"blur\": {\"blurLevel\": \"low\", \"value\": 0.18}, \"exposure\": {\"exposureLevel\": \"goodExposure\", \"value\": 0.58}, \"noise\": {\"noiseLevel\": \"low\", \"value\": 0.0}, \"makeup\": {\"eyeMakeup\": true, \"lipMakeup\": true}, \"accessories\": [], \"occlusion\": {\"foreheadOccluded\": false, \"eyeOccluded\": false, \"mouthOccluded\": false}, \"hair\": {\"bald\": 0.13, \"invisible\": false, \"hairColor\": [{\"color\": \"black\", \"confidence\": 1.0}, {\"color\": \"gray\", \"confidence\": 0.66}, {\"color\": \"other\", \"confidence\": 0.63}, {\"color\": \"brown\", \"confidence\": 0.33}, {\"color\": \"blond\", \"confidence\": 0.02}, {\"color\": \"red\", \"confidence\": 0.0}]}}}]\n"
     ]
    }
   ],
   "source": [
    "import requests\n",
    "import json\n",
    "\n",
    "# set to your own subscription key value\n",
    "subscription_key = '4690265689044f48b3f80e0e3ddba8a3'\n",
    "assert subscription_key\n",
    "\n",
    "# replace <My Endpoint String> with the string from your endpoint URL\n",
    "face_api_url = 'https://westcentralus.api.cognitive.microsoft.com/face/v1.0/detect'\n",
    "\n",
    "image_url = 'https://ss3.bdstatic.com/70cFv8Sh_Q1YnxGkpoWK1HF6hhy/it/u=3165450438,2790296485&fm=11&gp=0.jpg'\n",
    "\n",
    "headers = {'Ocp-Apim-Subscription-Key': subscription_key}\n",
    "\n",
    "params = {\n",
    "    'returnFaceId': 'true',\n",
    "    'returnFaceLandmarks': 'false',\n",
    "    'returnFaceAttributes': 'age,gender,headPose,smile,facialHair,glasses,emotion,hair,makeup,occlusion,accessories,blur,exposure,noise',\n",
    "}\n",
    "\n",
    "response = requests.post(face_api_url, params=params,\n",
    "                         headers=headers, json={\"url\": image_url})\n",
    "print(json.dumps(response.json()))"
   ]
  },
  {
   "cell_type": "markdown",
   "metadata": {},
   "source": [
    "## Face++ "
   ]
  },
  {
   "cell_type": "code",
   "execution_count": 62,
   "metadata": {},
   "outputs": [
    {
     "name": "stdout",
     "output_type": "stream",
     "text": [
      "b'{\"request_id\":\"1585810633,d403cfb2-8f57-446e-be35-26ff8ed43efc\",\"time_used\":128,\"faces\":[{\"face_token\":\"bffc37754fa465077f6ecad0bb0006f7\",\"face_rectangle\":{\"top\":111,\"left\":184,\"width\":69,\"height\":69},\"attributes\":{\"gender\":{\"value\":\"Male\"},\"age\":{\"value\":23},\"smile\":{\"value\":0.000,\"threshold\":50.000},\"emotion\":{\"anger\":0.043,\"disgust\":0.110,\"fear\":7.423,\"happiness\":0.196,\"neutral\":91.465,\"sadness\":0.482,\"surprise\":0.281}}}],\"image_id\":\"R+L3q2mPZQ2hLptWYsoaxA==\",\"face_num\":1}\\n'\n"
     ]
    }
   ],
   "source": [
    "import requests\n",
    "\n",
    "\n",
    "api_secret = \"zj8IdhGXyDBhovPklDI7IujNMCIaXbj1\"\n",
    "api_key = '9cibumhegbiNlgMu6EREIYvoDCdjmYpV'  # Replace with a valid Subscription Key here.\n",
    "\n",
    "BASE_URL = 'https://api-cn.faceplusplus.com/facepp/v3/detect' \n",
    "img_url = 'https://ss3.bdstatic.com/70cFv8Sh_Q1YnxGkpoWK1HF6hhy/it/u=3165450438,2790296485&fm=11&gp=0.jpg'\n",
    "\n",
    "headers = {\n",
    "    'Content-Type': 'application/json',\n",
    "}\n",
    "\n",
    "payload = {\n",
    "    \"image_url\":img_url,\n",
    "    'api_key': api_key,\n",
    "    'api_secret': api_secret,\n",
    "    'return_attributes':'gender,age,smiling,emotion', \n",
    "}\n",
    "\n",
    "r = requests.post(BASE_URL, params=payload, headers=headers)\n",
    "\n",
    "r.status_code\n",
    "print(r.content)"
   ]
  },
  {
   "cell_type": "markdown",
   "metadata": {},
   "source": [
    "## 腾讯AI"
   ]
  },
  {
   "cell_type": "code",
   "execution_count": 63,
   "metadata": {},
   "outputs": [
    {
     "data": {
      "text/plain": [
       "{'ret': 0,\n",
       " 'msg': 'ok',\n",
       " 'data': {'image_width': 440,\n",
       "  'image_height': 330,\n",
       "  'face_list': [{'face_id': '3576946821672506401',\n",
       "    'x': 178,\n",
       "    'y': 96,\n",
       "    'width': 84,\n",
       "    'height': 84,\n",
       "    'gender': 99,\n",
       "    'age': 20,\n",
       "    'expression': 0,\n",
       "    'beauty': 81,\n",
       "    'glass': 0,\n",
       "    'pitch': -6,\n",
       "    'yaw': -3,\n",
       "    'roll': -6,\n",
       "    'face_shape': {'face_profile': [{'x': 190, 'y': 121},\n",
       "      {'x': 188, 'y': 128},\n",
       "      {'x': 187, 'y': 134},\n",
       "      {'x': 187, 'y': 141},\n",
       "      {'x': 188, 'y': 148},\n",
       "      {'x': 189, 'y': 155},\n",
       "      {'x': 191, 'y': 161},\n",
       "      {'x': 194, 'y': 167},\n",
       "      {'x': 199, 'y': 173},\n",
       "      {'x': 204, 'y': 177},\n",
       "      {'x': 210, 'y': 179},\n",
       "      {'x': 218, 'y': 179},\n",
       "      {'x': 225, 'y': 177},\n",
       "      {'x': 232, 'y': 174},\n",
       "      {'x': 238, 'y': 169},\n",
       "      {'x': 242, 'y': 164},\n",
       "      {'x': 246, 'y': 157},\n",
       "      {'x': 248, 'y': 150},\n",
       "      {'x': 250, 'y': 142},\n",
       "      {'x': 251, 'y': 135},\n",
       "      {'x': 251, 'y': 128}],\n",
       "     'left_eye': [{'x': 196, 'y': 122},\n",
       "      {'x': 198, 'y': 124},\n",
       "      {'x': 201, 'y': 124},\n",
       "      {'x': 204, 'y': 124},\n",
       "      {'x': 207, 'y': 123},\n",
       "      {'x': 205, 'y': 120},\n",
       "      {'x': 201, 'y': 119},\n",
       "      {'x': 198, 'y': 120}],\n",
       "     'right_eye': [{'x': 238, 'y': 126},\n",
       "      {'x': 235, 'y': 127},\n",
       "      {'x': 231, 'y': 127},\n",
       "      {'x': 228, 'y': 126},\n",
       "      {'x': 225, 'y': 125},\n",
       "      {'x': 228, 'y': 123},\n",
       "      {'x': 232, 'y': 122},\n",
       "      {'x': 235, 'y': 124}],\n",
       "     'left_eyebrow': [{'x': 192, 'y': 114},\n",
       "      {'x': 196, 'y': 113},\n",
       "      {'x': 201, 'y': 113},\n",
       "      {'x': 205, 'y': 114},\n",
       "      {'x': 210, 'y': 114},\n",
       "      {'x': 206, 'y': 110},\n",
       "      {'x': 201, 'y': 109},\n",
       "      {'x': 196, 'y': 110}],\n",
       "     'right_eyebrow': [{'x': 246, 'y': 120},\n",
       "      {'x': 240, 'y': 118},\n",
       "      {'x': 234, 'y': 117},\n",
       "      {'x': 228, 'y': 117},\n",
       "      {'x': 222, 'y': 116},\n",
       "      {'x': 228, 'y': 113},\n",
       "      {'x': 235, 'y': 112},\n",
       "      {'x': 241, 'y': 114}],\n",
       "     'mouth': [{'x': 202, 'y': 156},\n",
       "      {'x': 205, 'y': 159},\n",
       "      {'x': 208, 'y': 160},\n",
       "      {'x': 212, 'y': 161},\n",
       "      {'x': 215, 'y': 161},\n",
       "      {'x': 219, 'y': 160},\n",
       "      {'x': 222, 'y': 158},\n",
       "      {'x': 219, 'y': 154},\n",
       "      {'x': 216, 'y': 151},\n",
       "      {'x': 212, 'y': 152},\n",
       "      {'x': 209, 'y': 151},\n",
       "      {'x': 205, 'y': 153},\n",
       "      {'x': 206, 'y': 156},\n",
       "      {'x': 209, 'y': 156},\n",
       "      {'x': 212, 'y': 156},\n",
       "      {'x': 215, 'y': 157},\n",
       "      {'x': 219, 'y': 157},\n",
       "      {'x': 219, 'y': 157},\n",
       "      {'x': 216, 'y': 156},\n",
       "      {'x': 212, 'y': 155},\n",
       "      {'x': 209, 'y': 155},\n",
       "      {'x': 206, 'y': 155}],\n",
       "     'nose': [{'x': 214, 'y': 137},\n",
       "      {'x': 216, 'y': 124},\n",
       "      {'x': 213, 'y': 128},\n",
       "      {'x': 211, 'y': 131},\n",
       "      {'x': 208, 'y': 135},\n",
       "      {'x': 205, 'y': 140},\n",
       "      {'x': 209, 'y': 143},\n",
       "      {'x': 213, 'y': 144},\n",
       "      {'x': 217, 'y': 144},\n",
       "      {'x': 223, 'y': 142},\n",
       "      {'x': 221, 'y': 137},\n",
       "      {'x': 219, 'y': 132},\n",
       "      {'x': 217, 'y': 128}]}}]}}"
      ]
     },
     "execution_count": 63,
     "metadata": {},
     "output_type": "execute_result"
    }
   ],
   "source": [
    "import hashlib  \n",
    "import time  \n",
    "import random  \n",
    "import string\n",
    "import requests  \n",
    "import base64  \n",
    "import requests\n",
    "\n",
    "import numpy as np\n",
    "from urllib.parse import urlencode\n",
    "import json #用于post后得到的字符串到字典的转换\n",
    "\n",
    "app_id = '2131690713' \n",
    "app_key = 'YDtKcITUF0dF49d3'\n",
    "\n",
    "'''\n",
    "        腾讯openai鉴权签名计算步骤：（摘抄自官网）\n",
    "            用于计算签名的参数在不同接口之间会有差异，但算法过程固定如下4个步骤。\n",
    "        1 将<key, value>请求参数对按key进行字典升序排序，得到有序的参数对列表N\n",
    "        2 将列表N中的参数对按URL键值对的格式拼接成字符串，得到字符串T（如：key1=value1&key2=value2），URL键值拼接过程value部分需要URL编码，URL编码算法用大写字母，例如%E8，而不是小写%e8\n",
    "        3 将应用密钥以app_key为键名，组成URL键值拼接到字符串T末尾，得到字符串S（如：key1=value1&key2=value2&app_key=密钥)\n",
    "        4 对字符串S进行MD5运算，将得到的MD5值所有字符转换成大写，得到接口请求签名\n",
    "'''\n",
    "\n",
    "def face_check(img_data):\n",
    "    \"\"\"\n",
    "    人脸识别demo\n",
    "    :param img_data: 二进制的图片数据\n",
    "    :return:\n",
    "    \"\"\"\n",
    "\n",
    "    data = base64.b64encode(img_data)\n",
    "\n",
    "    image = data.decode()\n",
    "\n",
    "    imageType = \"BASE64\"\n",
    "    \n",
    "def get_params(img):                         #鉴权计算并返回请求参数\n",
    "    #请求时间戳（秒级），用于防止请求重放（保证签名5分钟有效\n",
    "    time_stamp=str(int(time.time())) \n",
    "    #请求随机字符串，用于保证签名不可预测,16代表16位\n",
    "    nonce_str = ''.join(random.sample(string.ascii_letters + string.digits, 16))\n",
    "\n",
    "    params = {'app_id':app_id,                #请求包，需要根据不同的任务修改，基本相同\n",
    "              'image':img,                    #文字类的任务可能是‘text’，由主函数传递进来\n",
    "              'mode':'0' ,                    #身份证件类可能是'card_type'\n",
    "              'time_stamp':time_stamp,        #时间戳，都一样\n",
    "              'nonce_str':nonce_str,          #随机字符串，都一样\n",
    "              #'sign':''                      #签名不参与鉴权计算，只是列出来示意\n",
    "             }\n",
    "\n",
    "    sort_dict= sorted(params.items(), key=lambda item:item[0], reverse = False)  #字典排序\n",
    "    sort_dict.append(('app_key',app_key))   #尾部添加appkey\n",
    "    rawtext= urlencode(sort_dict).encode()  #urlencod编码\n",
    "    sha = hashlib.md5()    \n",
    "    sha.update(rawtext)\n",
    "    md5text= sha.hexdigest().upper()        #MD5加密计算\n",
    "    params['sign']=md5text                  #将签名赋值到sign\n",
    "    return  params                          #返回请求包\n",
    "\n",
    "with open(r\"C:\\Users\\hp\\Desktop\\666.jpg\",\"rb\")as f:\n",
    "    base64_data = base64.b64encode(f.read())\n",
    "    \n",
    "params = get_params(base64_data)\n",
    "\n",
    "url = \"https://api.ai.qq.com/fcgi-bin/face/face_detectface\"\n",
    "res = requests.post(url,params).json()\n",
    "res"
   ]
  },
  {
   "cell_type": "markdown",
   "metadata": {},
   "source": [
    "# 运用Face++分析人脸数据制作数据表格"
   ]
  },
  {
   "cell_type": "code",
   "execution_count": 64,
   "metadata": {},
   "outputs": [
    {
     "data": {
      "text/plain": [
       "{'request_id': '1585810633,d403cfb2-8f57-446e-be35-26ff8ed43efc',\n",
       " 'time_used': 128,\n",
       " 'faces': [{'face_token': 'bffc37754fa465077f6ecad0bb0006f7',\n",
       "   'face_rectangle': {'top': 111, 'left': 184, 'width': 69, 'height': 69},\n",
       "   'attributes': {'gender': {'value': 'Male'},\n",
       "    'age': {'value': 23},\n",
       "    'smile': {'value': 0.0, 'threshold': 50.0},\n",
       "    'emotion': {'anger': 0.043,\n",
       "     'disgust': 0.11,\n",
       "     'fear': 7.423,\n",
       "     'happiness': 0.196,\n",
       "     'neutral': 91.465,\n",
       "     'sadness': 0.482,\n",
       "     'surprise': 0.281}}}],\n",
       " 'image_id': 'R+L3q2mPZQ2hLptWYsoaxA==',\n",
       " 'face_num': 1}"
      ]
     },
     "execution_count": 64,
     "metadata": {},
     "output_type": "execute_result"
    }
   ],
   "source": [
    "results = r.json()\n",
    "results"
   ]
  },
  {
   "cell_type": "code",
   "execution_count": 65,
   "metadata": {},
   "outputs": [
    {
     "data": {
      "text/html": [
       "<div>\n",
       "<style scoped>\n",
       "    .dataframe tbody tr th:only-of-type {\n",
       "        vertical-align: middle;\n",
       "    }\n",
       "\n",
       "    .dataframe tbody tr th {\n",
       "        vertical-align: top;\n",
       "    }\n",
       "\n",
       "    .dataframe thead th {\n",
       "        text-align: right;\n",
       "    }\n",
       "</style>\n",
       "<table border=\"1\" class=\"dataframe\">\n",
       "  <thead>\n",
       "    <tr style=\"text-align: right;\">\n",
       "      <th></th>\n",
       "      <th>性别</th>\n",
       "      <th>年龄</th>\n",
       "      <th>笑容</th>\n",
       "      <th>是否有笑容</th>\n",
       "      <th>愤怒</th>\n",
       "      <th>厌恶</th>\n",
       "      <th>恐惧</th>\n",
       "      <th>高兴</th>\n",
       "      <th>平静</th>\n",
       "      <th>悲伤</th>\n",
       "      <th>惊讶</th>\n",
       "    </tr>\n",
       "    <tr>\n",
       "      <th>face_token</th>\n",
       "      <th></th>\n",
       "      <th></th>\n",
       "      <th></th>\n",
       "      <th></th>\n",
       "      <th></th>\n",
       "      <th></th>\n",
       "      <th></th>\n",
       "      <th></th>\n",
       "      <th></th>\n",
       "      <th></th>\n",
       "      <th></th>\n",
       "    </tr>\n",
       "  </thead>\n",
       "  <tbody>\n",
       "    <tr>\n",
       "      <th>bffc37754fa465077f6ecad0bb0006f7</th>\n",
       "      <td>男</td>\n",
       "      <td>23</td>\n",
       "      <td>0.0</td>\n",
       "      <td>50.0</td>\n",
       "      <td>0.043</td>\n",
       "      <td>0.11</td>\n",
       "      <td>7.423</td>\n",
       "      <td>0.196</td>\n",
       "      <td>91.465</td>\n",
       "      <td>0.482</td>\n",
       "      <td>0.281</td>\n",
       "    </tr>\n",
       "  </tbody>\n",
       "</table>\n",
       "</div>"
      ],
      "text/plain": [
       "                                 性别  年龄   笑容  是否有笑容     愤怒    厌恶     恐惧  \\\n",
       "face_token                                                                \n",
       "bffc37754fa465077f6ecad0bb0006f7  男  23  0.0   50.0  0.043  0.11  7.423   \n",
       "\n",
       "                                     高兴      平静     悲伤     惊讶  \n",
       "face_token                                                     \n",
       "bffc37754fa465077f6ecad0bb0006f7  0.196  91.465  0.482  0.281  "
      ]
     },
     "execution_count": 65,
     "metadata": {},
     "output_type": "execute_result"
    }
   ],
   "source": [
    "import pandas as pd\n",
    "df = pd.json_normalize(results,record_path='faces')\n",
    "df = df.rename (columns = {\"attributes.gender.value\":\"性别\",\n",
    "                           \"attributes.age.value\":\"年龄\",\n",
    "                           \"attributes.smile.value\":\"笑容\",\n",
    "                           \"attributes.smile.threshold\":\"是否有笑容\",\n",
    "                           \"attributes.emotion.anger\":\"愤怒\",\n",
    "                           \"attributes.emotion.disgust\":\"厌恶\",\n",
    "                           \"attributes.emotion.fear\":\"恐惧\",\n",
    "                           \"attributes.emotion.happiness\":\"高兴\",\n",
    "                           \"attributes.emotion.neutral\":\"平静\",\n",
    "                           \"attributes.emotion.sadness\":\"悲伤\",\n",
    "                           \"attributes.emotion.surprise\":\"惊讶\"})\n",
    "df = df.set_index('face_token')\n",
    "df = df.iloc[:,4:]\n",
    "df.replace({\"Male\":\"男\",\n",
    "            \"Female\":\"女\",})"
   ]
  },
  {
   "cell_type": "markdown",
   "metadata": {},
   "source": [
    "* 通过上面表格我们可以看到人脸识别可以分析出人像的情感指数，我们再通过设定标准指数即可得知人物情感并推送APP中相应的功能。"
   ]
  }
 ],
 "metadata": {
  "kernelspec": {
   "display_name": "Python 3",
   "language": "python",
   "name": "python3"
  },
  "language_info": {
   "codemirror_mode": {
    "name": "ipython",
    "version": 3
   },
   "file_extension": ".py",
   "mimetype": "text/x-python",
   "name": "python",
   "nbconvert_exporter": "python",
   "pygments_lexer": "ipython3",
   "version": "3.7.6"
  }
 },
 "nbformat": 4,
 "nbformat_minor": 4
}
